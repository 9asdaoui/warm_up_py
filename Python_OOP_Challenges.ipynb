{
 "cells": [
  {
   "cell_type": "markdown",
   "id": "7f7cbca4",
   "metadata": {},
   "source": [
    "### Challenge 1: Basic Class & Object\n",
    "Create a `Car` class with attributes: `brand`, `model`, `year`.\n",
    "- Add a method `drive()` that prints \"The car is driving\".\n",
    "- Create 2 car objects and call the method."
   ]
  },
  {
   "cell_type": "code",
   "execution_count": null,
   "id": "acedd44f",
   "metadata": {},
   "outputs": [
    {
     "data": {
      "text/plain": [
       "'the car is driving'"
      ]
     },
     "execution_count": 4,
     "metadata": {},
     "output_type": "execute_result"
    }
   ],
   "source": [
    "class Car:\n",
    "    def __init__(self,brand,model,year):\n",
    "        self.brand = brand\n",
    "        self.model = model\n",
    "        self.year = year\n",
    "\n",
    "    def drive(self):\n",
    "        return \"the car is driving\"\n",
    "    \n",
    "first_car = Car(\"toyota\",\"hilux\",2000)\n",
    "first_car.drive()\n"
   ]
  },
  {
   "cell_type": "markdown",
   "id": "0d5686c2",
   "metadata": {},
   "source": [
    "### Challenge 2: Encapsulation\n",
    "Create a `BankAccount` class with a **private attribute** `__balance`.\n",
    "- Add methods: `deposit(amount)`, `withdraw(amount)`, `get_balance()`.\n",
    "- Ensure withdrawal can’t make the balance negative."
   ]
  },
  {
   "cell_type": "code",
   "execution_count": 13,
   "id": "2a4827be",
   "metadata": {},
   "outputs": [
    {
     "data": {
      "text/plain": [
       "80"
      ]
     },
     "execution_count": 13,
     "metadata": {},
     "output_type": "execute_result"
    }
   ],
   "source": [
    "class BankAccount:\n",
    "\n",
    "    def __init__(self,balance):\n",
    "        self.__balance =  balance\n",
    "    \n",
    "    def deposit(self,amount):\n",
    "        self.__balance += amount\n",
    "\n",
    "    def withdraw(self,amount):\n",
    "        self.__balance = self.__balance - amount\n",
    "\n",
    "    def get_balance(self):\n",
    "        return self.__balance\n",
    "    \n",
    "acc = BankAccount(100)\n",
    "acc.deposit(10)\n",
    "acc.withdraw(30)\n",
    "acc.get_balance()\n"
   ]
  },
  {
   "cell_type": "markdown",
   "id": "f9488be5",
   "metadata": {},
   "source": [
    "### Challenge 3: Inheritance\n",
    "Create a base class `Animal` with method `speak()`.\n",
    "- Create subclasses `Dog` and `Cat` that override `speak()`.\n",
    "- Make a list of animals and loop to call `speak()`."
   ]
  },
  {
   "cell_type": "code",
   "execution_count": null,
   "id": "a269a47f",
   "metadata": {},
   "outputs": [
    {
     "name": "stdout",
     "output_type": "stream",
     "text": [
      "Cat speak\n",
      "dog speak\n"
     ]
    }
   ],
   "source": [
    "from abc import ABC,abstractmethod\n",
    "class Animal(ABC):\n",
    "\n",
    "    @abstractmethod\n",
    "    def speak(self):\n",
    "        pass\n",
    "\n",
    "class Dog(Animal):\n",
    "    def speak(self):\n",
    "        return \"dog speak\"\n",
    "        \n",
    "class Cat(Animal):\n",
    "    def speak(self):\n",
    "        return \"Cat speak\"\n",
    "    \n",
    "cat = Cat()\n",
    "dog = Dog()\n",
    "list = [cat , dog]\n",
    "\n",
    "for animal in list:\n",
    "    print(animal.speak())"
   ]
  },
  {
   "cell_type": "markdown",
   "id": "2b54a06d",
   "metadata": {},
   "source": [
    "### Challenge 4: Polymorphism\n",
    "Create a class `Shape` with method `area()`.\n",
    "- Create subclasses `Rectangle` and `Circle` that implement `area()`.\n",
    "- Test polymorphism by looping through different shapes and calling `area()`."
   ]
  },
  {
   "cell_type": "code",
   "execution_count": null,
   "id": "6f7bed82",
   "metadata": {},
   "outputs": [],
   "source": [
    "import math \n",
    "\n",
    "class Shape:\n",
    " \n",
    "    def area(self):\n",
    "        pass\n",
    "\n",
    "class Circle(Shape):\n",
    "    def __init__(self,radius):\n",
    "        self.radius = radius\n",
    "\n",
    "    def area(self):\n",
    "        area = math.pi * (self.radius ** 2)\n",
    "        return area\n",
    "\n",
    "class Rectangle(Shape):\n",
    "    def __init__(self,len,wid):\n",
    "        self.len = len \n",
    "        self.wid = wid\n",
    "\n",
    "    def area(self):\n",
    "        area = self.len * self.wid\n",
    "        return area\n"
   ]
  },
  {
   "cell_type": "markdown",
   "id": "af1d32a3",
   "metadata": {},
   "source": [
    "### Challenge 5: Class & Static Methods\n",
    "Create a class `MathTools`.\n",
    "- Add a `@staticmethod` method `add(a, b)` → returns sum.\n",
    "- Add a `@classmethod` method `description()` → prints class name."
   ]
  },
  {
   "cell_type": "code",
   "execution_count": null,
   "id": "5a5fcd91",
   "metadata": {},
   "outputs": [],
   "source": []
  },
  {
   "cell_type": "markdown",
   "id": "69a71480",
   "metadata": {},
   "source": [
    "### Challenge 6: Abstract Class\n",
    "Use `abc.ABC`.\n",
    "- Create an abstract class `Vehicle` with abstract method `move()`.\n",
    "- Create subclasses `Car`, `Bicycle`, and `Plane` that implement `move()` differently."
   ]
  },
  {
   "cell_type": "code",
   "execution_count": null,
   "id": "40848bab",
   "metadata": {},
   "outputs": [],
   "source": []
  },
  {
   "cell_type": "markdown",
   "id": "2a6fd023",
   "metadata": {},
   "source": [
    "### Challenge 7: Dataclasses\n",
    "Use `@dataclass` to create a `Book` class with attributes: `title`, `author`, `year`.\n",
    "- Create 3 book objects and print them."
   ]
  },
  {
   "cell_type": "code",
   "execution_count": null,
   "id": "abb2275e",
   "metadata": {},
   "outputs": [],
   "source": []
  },
  {
   "cell_type": "markdown",
   "id": "bc4447be",
   "metadata": {},
   "source": [
    "### Challenge 8: Mixins\n",
    "Create a `LoggerMixin` class with method `log(message)` that prints `[LOG] message`.\n",
    "- Use multiple inheritance to add logging to a `User` class."
   ]
  },
  {
   "cell_type": "code",
   "execution_count": null,
   "id": "3d9d7538",
   "metadata": {},
   "outputs": [],
   "source": []
  },
  {
   "cell_type": "markdown",
   "id": "0cb3118f",
   "metadata": {},
   "source": [
    "### Challenge 9: Mini Project - Library System\n",
    "Build a **Library System**:\n",
    "- Class `Book` → attributes: title, author, available (True/False).\n",
    "- Class `Library` → stores a list of books, with methods: `add_book(book)`, `borrow_book(title)`, `return_book(title)`, `list_books()`.\n",
    "- Create a few books, borrow and return them, and test."
   ]
  },
  {
   "cell_type": "code",
   "execution_count": null,
   "id": "a00d56ef",
   "metadata": {},
   "outputs": [],
   "source": []
  }
 ],
 "metadata": {
  "kernelspec": {
   "display_name": "Python 3",
   "language": "python",
   "name": "python3"
  },
  "language_info": {
   "codemirror_mode": {
    "name": "ipython",
    "version": 3
   },
   "file_extension": ".py",
   "mimetype": "text/x-python",
   "name": "python",
   "nbconvert_exporter": "python",
   "pygments_lexer": "ipython3",
   "version": "3.13.7"
  }
 },
 "nbformat": 4,
 "nbformat_minor": 5
}

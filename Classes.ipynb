{
 "cells": [
  {
   "cell_type": "markdown",
   "id": "08fd1dc2",
   "metadata": {},
   "source": [
    "\n",
    "<center>\n",
    "<H1><span style=\"text-align: center; font-weight: bold; color: #746bb3ff;\">Les Classes</span></H1>\n",
    "</center>"
   ]
  },
  {
   "cell_type": "markdown",
   "id": "e63c58e8",
   "metadata": {},
   "source": [
    "<H3><span style=\"font-weight: bold ; color: #19b7f1ff\">Les ressources: </span></H3> \n",
    "\n",
    "\n",
    "* [Documentation Officielle](https://docs.python.org/fr/3/tutorial/classes.html)\n",
    "* [Object-Oriented Programming (OOP)](https://realpython.com/python3-object-oriented-programming/)"
   ]
  },
  {
   "cell_type": "markdown",
   "id": "c6010b61",
   "metadata": {},
   "source": [
    "\n",
    "<H3><span style=\"font-weight: bold; color: #1a8bcdff;\">Challenge 1 : Gestion d’un compte bancaire en POO</span></H3>\n",
    "\n",
    "1. <span style=\"font-weight: bold; color: #e56922ff;\">Objectif</span> : </br>\n",
    "S’initier à la programmation orientée objet avec Python à travers la création d’une classe, la manipulation des attributs et l’appel de méthodes. Ce challenge permet de comprendre l'encapsulation des données et les actions associées à un objet.\n",
    "\n",
    "2. <span style=\"font-weight: bold; color: #e56922ff;\">Travail à faire</span>:</br>\n",
    "Crée une classe CompteBancaire avec les caractéristiques suivantes :\n",
    "1. Attributs :<br>\n",
    "* nom_proprietaire (chaîne)<br>\n",
    "* solde (float, initialisé à 0.0 par défaut)<br>\n",
    "2. Méthodes :\n",
    "*  __init__() : initialise le compte avec le nom du propriétaire et un solde optionnel.\n",
    "* deposer(montant) : ajoute le montant au solde.\n",
    "* retirer(montant) : retire le montant du solde si suffisant, sinon affiche un message d’erreur.\n",
    "* afficher_solde() : affiche le nom du propriétaire et le solde actuel."
   ]
  },
  {
   "cell_type": "code",
   "execution_count": null,
   "id": "c1fdbf5b",
   "metadata": {},
   "outputs": [
    {
     "data": {
      "text/plain": [
       "'name Oussama, solde 30'"
      ]
     },
     "execution_count": 8,
     "metadata": {},
     "output_type": "execute_result"
    }
   ],
   "source": [
    "#  Écrivez du code Python ici\n",
    "\n",
    "class CompteBancair:\n",
    "    def __init__(self, name: str, sold: float = 0 ):\n",
    "        self.name: str = name\n",
    "        self.__sold: float = sold\n",
    "\n",
    "    def deposer(self, montant: float):\n",
    "        self.__sold =+ montant\n",
    "    \n",
    "    def retirer(self, montant: float):\n",
    "        self.__sold = self.__sold - montant\n",
    "\n",
    "    def afficher_solde(self):\n",
    "        return f\"name {self.name}, solde {self.__sold}\"\n",
    "    \n",
    "\n",
    "acc = CompteBancair(\"Oussama\")\n",
    "acc.deposer(300)\n",
    "acc.retirer(30)\n",
    "acc.afficher_solde()\n",
    "        "
   ]
  },
  {
   "cell_type": "markdown",
   "id": "c72d3084",
   "metadata": {},
   "source": [
    "<H3><span style=\"font-weight: bold; color: #1a8bcdff;\">Challenge 2 : Système de gestion d’école </span></H3>\n",
    "\n",
    "1. <span style=\"font-weight: bold; color: #e56922ff;\">Objectif</span> : </br>\n",
    "Mettre en pratique les concepts fondamentaux de la POO à travers la modélisation d’un système scolaire. Ce challenge permet de manipuler les classes, l’héritage, le polymorphisme, l'encapsulation, les propriétés et les méthodes abstraites.\n",
    "\n",
    "2. <span style=\"font-weight: bold; color: #e56922ff;\">Travail à faire</span>:</br>\n",
    "* Classe abstraite Personne (à l'aide du module abc):\n",
    "1. Attributs : nom, prenom, age\n",
    "2. Méthode abstraite : afficher_infos()\n",
    "* Classe Etudiant héritée de Personne\n",
    "1. Attributs supplémentaires : matricule, notes (liste de floats)\n",
    "2. Méthodes : ajouter_note(note), moyenne(), afficher_infos() (redéfinition)\n",
    "* Classe Enseignant héritée de Personne\n",
    "1. Attributs supplémentaires : specialite, salaire\n",
    "2. Méthode afficher_infos() (redéfinition) @property et @setter pour sécuriser l’accès/modification du salaire\n",
    "* Classe Ecole\n",
    "1. Attributs : nom, liste_etudiants (liste d’objets Etudiant), liste_enseignants (liste d’objets Enseignant)\n",
    "2. Méthodes :ajouter_etudiant(etudiant), ajouter_enseignant(enseignant), afficher_tous_les_membres() (polymorphisme via afficher_infos())\n"
   ]
  },
  {
   "cell_type": "code",
   "execution_count": null,
   "id": "f81f7266",
   "metadata": {},
   "outputs": [
    {
     "data": {
      "text/plain": [
       "'name oussama, lastname qasdaoui, age 20, moyenn 35.0'"
      ]
     },
     "execution_count": 10,
     "metadata": {},
     "output_type": "execute_result"
    },
    {
     "ename": "",
     "evalue": "",
     "output_type": "error",
     "traceback": [
      "\u001b[1;31mThe Kernel crashed while executing code in the current cell or a previous cell. \n",
      "\u001b[1;31mPlease review the code in the cell(s) to identify a possible cause of the failure. \n",
      "\u001b[1;31mClick <a href='https://aka.ms/vscodeJupyterKernelCrash'>here</a> for more info. \n",
      "\u001b[1;31mView Jupyter <a href='command:jupyter.viewOutput'>log</a> for further details."
     ]
    }
   ],
   "source": [
    "#  Écrivez du code Python ici\n",
    "from abc import ABC, abstractmethod\n",
    "\n",
    "class Person(ABC):\n",
    "    def __init__(self, name: str, lastname: str, age: int ):\n",
    "        self.name: str = name\n",
    "        self.lastname: str = lastname\n",
    "        self.age: int = age\n",
    "\n",
    "    @abstractmethod\n",
    "    def info(self):\n",
    "        pass\n",
    "    \n",
    "class School():\n",
    "    def __init__(self, name: str):\n",
    "        self.objects_student: list[object] = []\n",
    "        self.objects_teacher: list[object] = []\n",
    "        self.name: str = name\n",
    "        \n",
    "    def add_teacher(self, teacher: object):\n",
    "        self.objects_teacher.append(teacher)\n",
    "\n",
    "    def add_student(self, student: object):\n",
    "        self.objects_student.append(student)\n",
    "\n",
    "    def all_student(self):\n",
    "        return [student.info() for student in self.objects_student] \n",
    "    def all_teacher(self):\n",
    "        return [teacher.info() for teacher in self.objects_teacher]\n",
    "    \n",
    "class Teacher(Person):\n",
    "    def __init__(self, name, lastname, age, speciality, salury):\n",
    "        self.speciality = speciality\n",
    "        self.__salury = salury\n",
    "        super().__init__(name, lastname, age)\n",
    "\n",
    "    def get_salury(self):\n",
    "        return self.__salury \n",
    "    def set_salury(self, salury):\n",
    "        self.__salury = salury\n",
    "\n",
    "    def info(self):\n",
    "        return f\"name {self.name}, lastname {self.lastname}, age {self.age}, salury {self.get_salury()}\"\n",
    "\n",
    "\n",
    "class Student(Person):\n",
    "    def __init__(self, name, lastname, age, matricul):\n",
    "        self.matricul = matricul\n",
    "        self.notes: list[float] = []\n",
    "        super().__init__(name, lastname, age)\n",
    "\n",
    "    def add_note(self, note: float):\n",
    "        self.notes.append(note)\n",
    "\n",
    "    def avg(self):\n",
    "        return sum(self.notes) /len(self.notes)\n",
    "    \n",
    "    def info(self):\n",
    "        return f\"name {self.name}, lastname {self.lastname}, age {self.age}, moyenn {self.avg()}\"\n",
    "    \n",
    "std = Student(\"oussama\",\"qasdaoui\", 20, \"dfghjkl\")\n",
    "std.add_note(20)\n",
    "std.add_note(50)\n",
    "\n",
    "std.info()"
   ]
  },
  {
   "cell_type": "markdown",
   "id": "a1cbceac",
   "metadata": {},
   "source": []
  }
 ],
 "metadata": {
  "kernelspec": {
   "display_name": "Python 3",
   "language": "python",
   "name": "python3"
  },
  "language_info": {
   "codemirror_mode": {
    "name": "ipython",
    "version": 3
   },
   "file_extension": ".py",
   "mimetype": "text/x-python",
   "name": "python",
   "nbconvert_exporter": "python",
   "pygments_lexer": "ipython3",
   "version": "3.13.7"
  }
 },
 "nbformat": 4,
 "nbformat_minor": 5
}

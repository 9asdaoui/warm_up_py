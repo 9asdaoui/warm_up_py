{
 "cells": [
  {
   "cell_type": "markdown",
   "id": "21dfa672",
   "metadata": {},
   "source": [
    "<center>\n",
    "<H1><span style=\"text-align: center; font-weight: bold; color: #746bb3ff;\">Les Fonctions</span></H1>\n",
    "</center>"
   ]
  },
  {
   "cell_type": "markdown",
   "id": "4280dbf3",
   "metadata": {},
   "source": [
    "<H3><span style=\"font-weight: bold ; color: #19b7f1ff\">Les ressources: </span></H3> \n",
    "\n",
    "\n",
    "* [Python Functions](https://realpython.com/defining-your-own-python-function/#abstraction)\n",
    "* [Documentation Officielle de Python](https://docs.python.org/fr/3/tutorial/controlflow.html#defining-functions)"
   ]
  },
  {
   "cell_type": "markdown",
   "id": "e83d584f",
   "metadata": {},
   "source": [
    "<H3><span style=\"font-weight: bold; color: #1a8bcdff;\">Challenge 1 : Présentation personnalisé</span></H3>\n",
    "\n",
    "1. <span style=\"font-weight: bold; color: #e56922ff;\">Objectif</span> : </br>\n",
    "Réutiliser un programme existant (Challenge 2) en le structurant dans une fonction nommée horaire_sup.\n",
    "\n",
    "2. <span style=\"font-weight: bold; color: #e56922ff;\">Travail à faire</span>:</br>\n",
    "Réécris le programme du Challenge 2 dans une fonction appelée horaire_sup."
   ]
  },
  {
   "cell_type": "code",
   "execution_count": null,
   "id": "b3439d44",
   "metadata": {},
   "outputs": [
    {
     "name": "stdout",
     "output_type": "stream",
     "text": [
      "570.0\n"
     ]
    }
   ],
   "source": [
    "#  Écrivez du code Python ici\n",
    "\n",
    "name = input(\"enter your name : \")\n",
    "salir = int(input(\"enter your salury : \"))\n",
    "number_houres = int(input(\"how many houres do you work: \"))\n",
    "\n",
    "\n",
    "\n",
    "def horaire_sup(name,salir,number_houres):\n",
    "    total_salury = 0\n",
    "\n",
    "    if number_houres > 40:\n",
    "        number_houres_supplimontir = number_houres - 40\n",
    "        number_houres = number_houres_supplimontir * 1.5 + 40\n",
    "    \n",
    "    total_salury = number_houres * salir\n",
    "    return total_salury\n",
    "\n",
    "print(horaire_sup(name,salir,number_houres))"
   ]
  },
  {
   "cell_type": "markdown",
   "id": "77631c7d",
   "metadata": {},
   "source": [
    "<H3><span style=\"font-weight: bold; color: #1a8bcdff;\">Challenge 2 : Fonction calculation() – somme et différence</span></H3>\n",
    "\n",
    "1. <span style=\"font-weight: bold; color: #e56922ff;\">Objectif</span> : </br>\n",
    "Apprendre à écrire une fonction avec plusieurs paramètres et plusieurs valeurs de retour.\n",
    "\n",
    "2. <span style=\"font-weight: bold; color: #e56922ff;\">Travail à faire</span>:</br>\n",
    "Écris une fonction calculation() qui prend deux arguments et calcule leur somme ainsi que leur différence. La fonction doit ensuite retourner les deux résultats dans une seule instruction return."
   ]
  },
  {
   "cell_type": "code",
   "execution_count": 6,
   "id": "323a8b4a",
   "metadata": {},
   "outputs": [
    {
     "name": "stdout",
     "output_type": "stream",
     "text": [
      "(9, -3)\n"
     ]
    }
   ],
   "source": [
    "#  Écrivez du code Python ici\n",
    "\n",
    "def calculation(arg_1, arg_2):\n",
    "    sum = arg_1 + arg_2\n",
    "    dif = arg_1 - arg_2\n",
    "\n",
    "    return sum, dif\n",
    "\n",
    "print(calculation(3,6))"
   ]
  },
  {
   "cell_type": "markdown",
   "id": "c2081304",
   "metadata": {},
   "source": [
    "<H3><span style=\"font-weight: bold; color: #1a8bcdff;\">Challenge 3 : Mini-projets algorithmiques regroupés</span></H3>\n",
    "\n",
    "1. <span style=\"font-weight: bold; color: #e56922ff;\">Objectif</span> : </br>\n",
    "Développer plusieurs petites fonctions indépendantes, chacune ciblant une compétence précise\n",
    "\n",
    "2. <span style=\"font-weight: bold; color: #e56922ff;\">Travail à faire</span>:</br>\n",
    "- Demander à l’utilisateur de saisir un nombre entier n et afficher la factorielle de ce nombre (n!).\n",
    "- Demander à l’utilisateur un nombre entier m et afficher sa table de multiplication de 1 à 10.\n",
    "- Demander à l’utilisateur un nombre entier L et indiquer s’il s’agit d’un carré parfait.\n",
    "- Demander une chaîne de caractères à l’utilisateur, puis afficher chaque caractère un par un.\n",
    "- Demander une phrase à l’utilisateur et afficher le mot le plus long de cette phrase.\n",
    "- Demander une chaîne de caractères Ch et afficher le nombre d’occurrences de chaque caractère. Exemple : Pour Ch = “artificial intelligence developer” \n",
    "- Le programme doit afficher : Le caractère \"i\" figure 5 fois dans la chaîne Ch."
   ]
  },
  {
   "cell_type": "code",
   "execution_count": 27,
   "id": "a06adf5c",
   "metadata": {},
   "outputs": [
    {
     "name": "stdout",
     "output_type": "stream",
     "text": [
      "2.0\n"
     ]
    },
    {
     "data": {
      "text/plain": [
       "'its not a perfect square'"
      ]
     },
     "execution_count": 27,
     "metadata": {},
     "output_type": "execute_result"
    }
   ],
   "source": [
    "#  Écrivez du code Python ici\n",
    "import math\n",
    "\n",
    "\n",
    "def factorial(number):\n",
    "    fac = 1\n",
    "    for i in range(1,number + 1):\n",
    "        fac = fac * i\n",
    "    return fac\n",
    "\n",
    "\n",
    "def table_fac(number):\n",
    "    table = []\n",
    "    for i in range(1,11):\n",
    "        fac = i * number\n",
    "        table.append(fac)\n",
    "    return table\n",
    "\n",
    "def prefect_square(number):\n",
    "    square_root = math.sqrt(number)\n",
    "    print(square_root)\n",
    "    if isinstance(square_root, int):\n",
    "        return(\"its perfect square\")\n",
    "    elif isinstance(square_root, float):\n",
    "        return(\"its not a perfect square\")\n",
    "    else:\n",
    "        return (\"undefinde\")\n",
    "    \n",
    "prefect_square(4)"
   ]
  }
 ],
 "metadata": {
  "kernelspec": {
   "display_name": "Python 3",
   "language": "python",
   "name": "python3"
  },
  "language_info": {
   "codemirror_mode": {
    "name": "ipython",
    "version": 3
   },
   "file_extension": ".py",
   "mimetype": "text/x-python",
   "name": "python",
   "nbconvert_exporter": "python",
   "pygments_lexer": "ipython3",
   "version": "3.13.7"
  }
 },
 "nbformat": 4,
 "nbformat_minor": 5
}

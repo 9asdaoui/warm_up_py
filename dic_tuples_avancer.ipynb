{
 "cells": [
  {
   "cell_type": "markdown",
   "id": "ed27035d",
   "metadata": {},
   "source": [
    "\n",
    "<center>\n",
    "<H1><span style=\"text-align: center; font-weight: bold; color: #746bb3ff;\">Challenges avancés sur les dics et tuples</span></H1>\n",
    "</center>"
   ]
  },
  {
   "cell_type": "markdown",
   "id": "d37d1b79",
   "metadata": {},
   "source": [
    "### **Conseils pour résoudre les challenges :**\n",
    "- Testez avec des cas limites : dictionnaires vides, tuples vides, clés absentes, ou structures imbriquées complexes.\n",
    "- Utilisez `get()` ou `setdefault()` pour gérer les accès sécurisés aux dictionnaires.\n",
    "- Pour les tuples, rappelez-vous qu'ils sont immuables, donc toute transformation nécessite de créer de nouveaux tuples.\n",
    "- Assurez-vous que vos fonctions sont robustes face aux erreurs (par exemple, vérifier les types des entrées).\n"
   ]
  },
  {
   "cell_type": "markdown",
   "id": "28323bec",
   "metadata": {},
   "source": [
    "### **Challenge 1 : Fusion de dictionnaires avec mise à jour personnalisée**\n",
    "**Objectif** : Fusionner deux dictionnaires en appliquant une règle personnalisée pour gérer les clés communes.\n",
    "\n",
    "**Travail à faire** :  \n",
    "* Écrivez une fonction `fusionner_dictionnaires` qui prend deux dictionnaires et une fonction de fusion (par exemple, `lambda x, y: x + y` pour additionner les valeurs des clés communes). \n",
    " * La fonction doit retourner un nouveau dictionnaire contenant toutes les clés des deux dictionnaires, avec les valeurs des clés communes combinées via la fonction de fusion. \n",
    " * Testez avec deux dictionnaires et deux fonctions de fusion différentes (par exemple, addition et maximum).  \n",
    "* Exemple d'entrée : `dict1 = {'a': 1, 'b': 2}`, `dict2 = {'b': 3, 'c': 4}`, fonction `lambda x, y: x + y` → Résultat : `{'a': 1, 'b': 5, 'c': 4}`.\n",
    "\n",
    "**Fonctions à utiliser** :  \n",
    "- `items()` : Pour itérer sur les paires clé-valeur des dictionnaires.  \n",
    "- `setdefault()` : Pour gérer les clés absentes dans un dictionnaire.  \n",
    "- `update()` : Pour ajouter des paires clé-valeur au dictionnaire résultat. "
   ]
  },
  {
   "cell_type": "code",
   "execution_count": 14,
   "id": "6a1a1dc1",
   "metadata": {},
   "outputs": [
    {
     "data": {
      "text/plain": [
       "{'a': 1, 'b': 5, 'c': 4}"
      ]
     },
     "execution_count": 14,
     "metadata": {},
     "output_type": "execute_result"
    }
   ],
   "source": [
    "dict1 = {'a': 1, 'b': 2}\n",
    "dict2 = {'b': 3, 'c': 4} \n",
    "funct = lambda x, y: x + y\n",
    "\n",
    "\n",
    "def fusion_dict(dict1, dict2, funct):\n",
    "\n",
    "    for key2, value2 in dict2.items():\n",
    "            if key2 in dict1:\n",
    "                dict1[key2] = funct(value2,dict1[key2])\n",
    "            else:\n",
    "                 dict1[key2] = value2\n",
    "            \n",
    "\n",
    "    return dict1\n",
    "\n",
    "fusion_dict(dict1, dict2, funct)\n"
   ]
  },
  {
   "cell_type": "markdown",
   "id": "bf45ff06",
   "metadata": {},
   "source": [
    "### **Challenge 2 : Filtrage de dictionnaire par valeurs**\n",
    "**Objectif** : Filtrer un dictionnaire selon un critère appliqué à ses valeurs.\n",
    "\n",
    "**Travail à faire** :  \n",
    "* Écrivez une fonction `filtrer_dictionnaire` qui prend un dictionnaire et une fonction de critère (par exemple, `lambda x: x > 10` pour garder les valeurs supérieures à 10). \n",
    "* La fonction doit retourner un nouveau dictionnaire contenant uniquement les paires clé-valeur où la valeur satisfait le critère. Testez avec deux critères différents (par exemple, \"valeur > 10\" et \"valeur est paire\").  \n",
    "* Exemple d'entrée : `{'a': 5, 'b': 12, 'c': 8, 'd': 15}` avec critère `lambda x: x > 10` → Résultat : `{'b': 12, 'd': 15}`.\n",
    "\n",
    "**Fonctions à utiliser** :  \n",
    "- `items()` : Pour itérer sur les paires clé-valeur.  \n",
    "- `filter()` : Pour appliquer le critère aux valeurs.  \n",
    "- `dict()` : Pour construire le dictionnaire résultat à partir des paires filtrées.  \n"
   ]
  },
  {
   "cell_type": "code",
   "execution_count": null,
   "id": "d927f594",
   "metadata": {},
   "outputs": [
    {
     "data": {
      "text/plain": [
       "{'b': 12, 'd': 15}"
      ]
     },
     "execution_count": 18,
     "metadata": {},
     "output_type": "execute_result"
    }
   ],
   "source": [
    "my_dict = {'a': 5, 'b': 12, 'c': 8, 'd': 15}  \n",
    "funct = lambda x: x > 10\n",
    "\n",
    "def filter_dict(my_dict,funct):\n",
    "    \n",
    "    filtered_dict = {}\n",
    "    for key, value in my_dict.items():\n",
    "        if funct(value):\n",
    "            filtered_dict[key] = value \n",
    "    return filtered_dict\n",
    "\n",
    "filter_dict(my_dict,funct)"
   ]
  },
  {
   "cell_type": "markdown",
   "id": "013db6ff",
   "metadata": {},
   "source": [
    "### **Challenge 3 : Création de tuples à partir de dictionnaires**\n",
    "**Objectif** : Convertir un dictionnaire en une liste de tuples triés selon un critère.\n",
    "\n",
    "**Travail à faire** :  \n",
    "* Écrivez une fonction `dictionnaire_vers_tuples` qui prend un dictionnaire et une fonction de tri (par exemple, `lambda x: x[1]` pour trier par valeur). \n",
    "* La fonction doit retourner une liste de tuples (clé, valeur) triée selon la fonction de tri. Testez avec deux critères de tri (par exemple, tri par clé et tri par valeur).  \n",
    "* Exemple d'entrée : `{'a': 10, 'b': 5, 'c': 15}` avec tri par valeur → Résultat : `[('b', 5), ('a', 10), ('c', 15)]`.\n",
    "\n",
    "**Fonctions à utiliser** :  \n",
    "- `items()` : Pour obtenir les paires clé-valeur sous forme de tuples.  \n",
    "- `sorted()` : Pour trier les tuples selon le critère.  \n",
    "- `list()` : Pour convertir en liste si nécessaire.  \n"
   ]
  },
  {
   "cell_type": "code",
   "execution_count": 32,
   "id": "137ccb08",
   "metadata": {},
   "outputs": [
    {
     "name": "stdout",
     "output_type": "stream",
     "text": [
      "[('b', 5), ('a', 10), ('c', 15)]\n"
     ]
    }
   ],
   "source": [
    "my_dict = {'a': 10, 'b': 5, 'c': 15}\n",
    "my_func = lambda x: x[1]\n",
    "\n",
    "\n",
    "def dict_to_tup(my_dict,funct):\n",
    "    tuples = []\n",
    "    for key, value in my_dict.items():\n",
    "        tuples.append((key,value))\n",
    "    return sorted(tuples, key = funct)\n",
    "\n",
    "print(dict_to_tup(my_dict,my_func))"
   ]
  },
  {
   "cell_type": "markdown",
   "id": "eebca455",
   "metadata": {},
   "source": [
    "### **Challenge 4 : Regroupement par clé dans un dictionnaire**\n",
    "**Objectif** : Regrouper des tuples dans un dictionnaire selon leur première valeur.\n",
    "\n",
    "**Travail à faire** :  \n",
    "* Écrivez une fonction `regrouper_tuples` qui prend une liste de tuples (chaque tuple ayant au moins deux éléments : une clé et une valeur) et regroupe les valeurs associées à chaque clé dans un dictionnaire. \n",
    "* La fonction doit retourner un dictionnaire où chaque clé est la première valeur du tuple, et la valeur est une liste des secondes valeurs correspondantes. Testez avec une liste de tuples contenant des doublons de clés.  \n",
    "* Exemple d'entrée : `[('a', 1), ('b', 2), ('a', 3), ('c', 4)]` → Résultat : `{'a': [1, 3], 'b': [2], 'c': [4]}`.\n",
    "\n",
    "**Fonctions à utiliser** :  \n",
    "- `setdefault()` : Pour initialiser une liste vide pour chaque clé.  \n",
    "- `append()` : Pour ajouter les valeurs à la liste associée à une clé.  \n"
   ]
  },
  {
   "cell_type": "code",
   "execution_count": 53,
   "id": "34ebe3ce",
   "metadata": {},
   "outputs": [
    {
     "name": "stdout",
     "output_type": "stream",
     "text": [
      "{'a': [1, 3], 'b': [2], 'c': [4]}\n"
     ]
    }
   ],
   "source": [
    "list_tuples = [('a', 1), ('b', 2), ('a', 3), ('c', 4)]\n",
    "\n",
    "def regroup_tup(list_tuples):\n",
    "    my_dict = {}\n",
    "    for item in list_tuples:\n",
    "        if item[0] not in my_dict:\n",
    "            my_dict[item[0]] = [item[1]]\n",
    "        else:\n",
    "            my_dict[item[0]].append(item[1])\n",
    "    return my_dict\n",
    "\n",
    "print(regroup_tup(list_tuples))\n",
    "\n"
   ]
  },
  {
   "cell_type": "markdown",
   "id": "006c74b5",
   "metadata": {},
   "source": [
    "### **Challenge 5 : Transformation de tuples avec fonction**\n",
    "**Objectif** : Appliquer une transformation à tous les éléments numériques d'une liste de tuples.\n",
    "\n",
    "**Travail à faire** :  \n",
    "* Écrivez une fonction `transformer_tuples` qui prend une liste de tuples contenant des nombres et une fonction de transformation (par exemple, `lambda x: x * 2`). \n",
    "* La fonction doit appliquer la transformation à chaque nombre dans les tuples et retourner une nouvelle liste de tuples.  \n",
    "* Testez avec deux fonctions de transformation différentes (par exemple, doubler et ajouter 1).  \n",
    "* Exemple d'entrée : `[(1, 2), (3, 4)]` avec `lambda x: x * 2` → Résultat : `[(2, 4), (6, 8)]`.\n",
    "\n",
    "**Fonctions à utiliser** :  \n",
    "- `map()` : Pour appliquer la transformation à chaque élément du tuple.  \n",
    "- `tuple()` : Pour convertir les résultats de `map` en tuples.  \n",
    "- `list()` : Pour construire la liste finale de tuples.  \n"
   ]
  },
  {
   "cell_type": "code",
   "execution_count": 58,
   "id": "092328ad",
   "metadata": {},
   "outputs": [
    {
     "name": "stdout",
     "output_type": "stream",
     "text": [
      "[(2, 4), (6, 8)]\n"
     ]
    }
   ],
   "source": [
    "\n",
    "list_tuples = [(1, 2), (3, 4)]\n",
    "funct = lambda x: x * 2\n",
    "\n",
    "def tran_tuples(list_tuples, funct):\n",
    "    my_list = []\n",
    "    for my_tuple in list_tuples:\n",
    "        my_list.append(tuple(map(funct, my_tuple)))\n",
    "    return my_list\n",
    "\n",
    "print(tran_tuples(list_tuples,funct))"
   ]
  },
  {
   "cell_type": "markdown",
   "id": "6c9aa7f3",
   "metadata": {},
   "source": [
    "### **Challenge 6 : Dictionnaire imbriqué à plat**\n",
    "**Objectif** : Convertir un dictionnaire imbriqué en une liste de tuples avec des clés concaténées.\n",
    "\n",
    "**Travail à faire** :  \n",
    "Écrivez une fonction `aplatir_dictionnaire` qui prend un dictionnaire potentiellement imbriqué et retourne une liste de tuples où chaque tuple contient une clé concaténée (séparée par des points) et la valeur correspondante. Testez avec un dictionnaire ayant au moins deux niveaux d'imbrication.  \n",
    "Exemple d'entrée : `{'a': 1, 'b': {'c': 2, 'd': 3}}` → Résultat : `[('a', 1), ('b.c', 2), ('b.d', 3)]`.\n",
    "\n",
    "**Fonctions à utiliser** :  \n",
    "- `items()` : Pour itérer sur les paires clé-valeur.  \n",
    "- `isinstance()` : Pour vérifier si une valeur est un dictionnaire (pour la récursivité).  \n",
    "- `append()` : Pour construire la liste de tuples.  \n",
    "\n"
   ]
  },
  {
   "cell_type": "code",
   "execution_count": null,
   "id": "081818d8",
   "metadata": {},
   "outputs": [
    {
     "data": {
      "text/plain": [
       "[[('a', 1)], [('b.c', 2)], [('b.d', 3)]]"
      ]
     },
     "execution_count": 76,
     "metadata": {},
     "output_type": "execute_result"
    },
    {
     "ename": "",
     "evalue": "",
     "output_type": "error",
     "traceback": [
      "\u001b[1;31mThe Kernel crashed while executing code in the current cell or a previous cell. \n",
      "\u001b[1;31mPlease review the code in the cell(s) to identify a possible cause of the failure. \n",
      "\u001b[1;31mClick <a href='https://aka.ms/vscodeJupyterKernelCrash'>here</a> for more info. \n",
      "\u001b[1;31mView Jupyter <a href='command:jupyter.viewOutput'>log</a> for further details."
     ]
    }
   ],
   "source": [
    "my_dict =  {'a': 1, 'b': {'c': 2, 'd': 3}}\n",
    "\n",
    "def aplatir_dict(my_dict):\n",
    "    list_tuples = []\n",
    "    for key, value in my_dict.items():\n",
    "        if isinstance(value, dict):\n",
    "            for key1, value1 in value.items():\n",
    "                list_tuples.append([(key +'.'+key1, value1)])\n",
    "        else:\n",
    "            list_tuples.append([(key,value)])\n",
    "\n",
    "    return list_tuples\n",
    "\n",
    "aplatir_dict(my_dict)"
   ]
  }
 ],
 "metadata": {
  "kernelspec": {
   "display_name": "Python 3",
   "language": "python",
   "name": "python3"
  },
  "language_info": {
   "codemirror_mode": {
    "name": "ipython",
    "version": 3
   },
   "file_extension": ".py",
   "mimetype": "text/x-python",
   "name": "python",
   "nbconvert_exporter": "python",
   "pygments_lexer": "ipython3",
   "version": "3.13.7"
  }
 },
 "nbformat": 4,
 "nbformat_minor": 5
}

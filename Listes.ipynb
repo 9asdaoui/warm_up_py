{
 "cells": [
  {
   "cell_type": "markdown",
   "id": "b44d4791",
   "metadata": {},
   "source": [
    "<center>\n",
    "<H1><span style=\"text-align: center; font-weight: bold; color: #746bb3ff;\">Les Listes</span></H1>\n",
    "</center>"
   ]
  },
  {
   "cell_type": "markdown",
   "id": "b9c93591",
   "metadata": {},
   "source": [
    "<H3><span style=\"font-weight: bold ; color: #19b7f1ff\">Les ressources: </span></H3> \n",
    "\n",
    "* [Python Lists and List Manipulation](https://realpython.com/python-lists-tuples/)\n",
    "* [Documentation Officielle de Python - Structures de données - Listes](https://docs.python.org/fr/3/tutorial/datastructures.html#more-on-lists)\n"
   ]
  },
  {
   "cell_type": "markdown",
   "id": "873352ef",
   "metadata": {},
   "source": [
    "<H3><span style=\"font-weight: bold; color: #1a8bcdff;\">Challenge 1 : La liste des notes </span></H3>\n",
    "\n",
    "<center><code>notes = [12, 4, 14, 11, 18, 13, 7, 10, 5, 9, 15, 8, 14, 16]</code></center>\n",
    "\n",
    "<span style=\"font-weight: bold; color: #e56922ff;\">Travail à faire</span>:</br>\n",
    "Écris un programme en Python qui extrait toutes les notes supérieures à la moyenne et les stocke dans une nouvelle liste."
   ]
  },
  {
   "cell_type": "code",
   "execution_count": 4,
   "id": "08a09dc2",
   "metadata": {},
   "outputs": [
    {
     "data": {
      "text/plain": [
       "[12, 14, 18, 13, 15, 14, 16]"
      ]
     },
     "execution_count": 4,
     "metadata": {},
     "output_type": "execute_result"
    }
   ],
   "source": [
    "#  Écrivez du code Python ici\n",
    "notes = [12, 4, 14, 11, 18, 13, 7, 10, 5, 9, 15, 8, 14, 16]\n",
    "\n",
    "def above_avg(notes):\n",
    "    above_avg_notes = []\n",
    "    avg = sum(notes) / len(notes)\n",
    "    for i in range(len(notes)):\n",
    "        if notes[i] > avg:\n",
    "            above_avg_notes.append(notes[i])\n",
    "    return above_avg_notes\n",
    "\n",
    "above_avg(notes)"
   ]
  },
  {
   "cell_type": "markdown",
   "id": "87452d02",
   "metadata": {},
   "source": [
    "\n",
    "<H3><span style=\"font-weight: bold; color: #1a8bcdff;\">Challenge 2 : Les mots communs</span></H3>\n",
    "\n",
    "<center><code>\n",
    "Ch1 = \"Le langage Python est très populaire\" <br>\n",
    "Ch2 = \"Python est un langage puissant\"\n",
    "        </code></center>\n",
    "\n",
    "<span style=\"font-weight: bold; color: #e56922ff;\">Travail à faire</span>:</br>\n",
    "Écris un programme en Python qui permet de regrouper dans une liste les mots communs entre deux chaînes de caractères Ch1 et Ch2."
   ]
  },
  {
   "cell_type": "code",
   "execution_count": null,
   "id": "a640e80e",
   "metadata": {},
   "outputs": [
    {
     "data": {
      "text/plain": [
       "['langage', 'Python', 'est']"
      ]
     },
     "execution_count": 15,
     "metadata": {},
     "output_type": "execute_result"
    }
   ],
   "source": [
    "#  Écrivez du code Python ici\n",
    "ch1 = \"Le langage Python est très populaire\"\n",
    "ch2 = \"Python est un langage puissant\"\n",
    "\n",
    "\n",
    "def split_native(ch):\n",
    "    list = []\n",
    "    word = \"\"\n",
    "    for i in range(len(ch)):\n",
    "        if ch[i] == \" \":  \n",
    "            if word:  \n",
    "                list.append(word)\n",
    "                word = \"\"\n",
    "        else:\n",
    "            word += ch[i]\n",
    "    return list\n",
    "\n",
    "def group_same_wordes(ch1,ch2):\n",
    "    words1 = split_native(ch1)\n",
    "    words2 = split_native(ch2)\n",
    "    same_wordes = []\n",
    "    for i in range (len(words1)):\n",
    "        for j in range (len(words2)):\n",
    "            if words2[j] == words1[i]:\n",
    "                if words2[j] not in same_wordes:\n",
    "                    same_wordes.append(words2[j])\n",
    "    return same_wordes\n",
    "\n",
    "group_same_wordes(ch1,ch2)"
   ]
  },
  {
   "cell_type": "markdown",
   "id": "5d74627c",
   "metadata": {},
   "source": [
    "\n",
    "<H3><span style=\"font-weight: bold; color: #1a8bcdff;\">Challenge 3 : Manipulation et tri de listes mixtes</span></H3>\n",
    "\n",
    "<center><code>\n",
    "stock = [\"Stylo\", 25, \"Classeur\", 100, \"Crayon\", 12, \"Surligneur\", 40, \"Feutre\", 5]\n",
    "        </code></center>\n",
    "\n",
    "<span style=\"font-weight: bold; color: #e56922ff;\">Travail à faire</span>:</br>\n",
    " Écris un programme Python qui effectue les opérations suivantes à partir de la liste stock :\n",
    "\n",
    " 1. Afficher la liste initiale.\n",
    "2. Créer deux nouvelles listes :\n",
    "\n",
    "* une contenant uniquement les chaînes de caractères,\n",
    "\n",
    "* l’autre contenant uniquement les valeurs numériques.\n",
    "\n",
    "3. Trier :\n",
    "\n",
    "* la liste des chaînes en ordre croissant (alphabétique),\n",
    "\n",
    "* la liste des nombres en ordre décroissant.\n",
    "\n",
    "4. Afficher les deux listes triées."
   ]
  },
  {
   "cell_type": "code",
   "execution_count": null,
   "id": "67b9949c",
   "metadata": {},
   "outputs": [
    {
     "data": {
      "text/plain": [
       "([100, 40, 25, 12, 5], ['Classeur', 'Crayon', 'Feutre', 'Stylo', 'Surligneur'])"
      ]
     },
     "execution_count": 40,
     "metadata": {},
     "output_type": "execute_result"
    }
   ],
   "source": [
    "#  Écrivez du code Python ici\n",
    "stock = [\"Stylo\", 25, \"Classeur\", 100, \"Crayon\", 12, \"Surligneur\", 40, \"Feutre\", 5]\n",
    "\n",
    "def show(stock):\n",
    "    return stock\n",
    "\n",
    "def split_int_str(stock):\n",
    "    intigers = []\n",
    "    strings = []\n",
    "\n",
    "    for i in range(len(stock)):\n",
    "        if isinstance(stock[i], int):\n",
    "            intigers.append(stock[i])\n",
    "        if isinstance(stock[i],str):\n",
    "            strings.append(stock[i])\n",
    "    val = [intigers, strings]\n",
    "    return val \n",
    "\n",
    "\n",
    "def sort_stock(intigers,strings):\n",
    "\n",
    "    for i in range(len(intigers)):\n",
    "        for j in range(len(intigers)):\n",
    "            if intigers[i] > intigers[j]:\n",
    "                temp = intigers[i]\n",
    "                intigers[i] = intigers[j]\n",
    "                intigers[j] = temp\n",
    "\n",
    "    for i in range(len(strings)):\n",
    "        for j in range(len(strings)):\n",
    "            if strings[i] < strings[j]:\n",
    "                temp = strings[i]\n",
    "                strings[i] = strings[j]\n",
    "                strings[j] = temp\n",
    "\n",
    "    return intigers , strings\n",
    "\n",
    "sort_stock(split_int_str(stock)[0],split_int_str(stock)[1])         \n"
   ]
  },
  {
   "cell_type": "markdown",
   "id": "fe0eccef",
   "metadata": {},
   "source": [
    "\n",
    "<H3><span style=\"font-weight: bold; color: #1a8bcdff;\">Challenge 4 : Recherche d’un élément dans une liste </span></H3>\n",
    "\n",
    "<center><code>Fruits = [\"pomme\", \"banane\", \"orange\", \"kiwi\", \"mangue\"]</code></center>\n",
    "\n",
    "<span style=\"font-weight: bold; color: #e56922ff;\">Travail à faire</span>:</br>\n",
    "Créer une fonction « rechercheElement » qui a pour paramètres un élément et une liste et qui renvoie False si l’élément n’est pas dans la liste, ou l’indice de l’élément dans le cas contraire."
   ]
  },
  {
   "cell_type": "code",
   "execution_count": 49,
   "id": "b6d66015",
   "metadata": {},
   "outputs": [
    {
     "data": {
      "text/plain": [
       "1"
      ]
     },
     "execution_count": 49,
     "metadata": {},
     "output_type": "execute_result"
    }
   ],
   "source": [
    "#  Écrivez du code Python ici\n",
    "Fruits = [\"pomme\", \"Banane\", \"orange\", \"kiwi\", \"mangue\"]\n",
    "\n",
    "def search(word,list_wordes):\n",
    "\n",
    "    for i in range(len(list_wordes)):\n",
    "        if word == list_wordes[i].lower():\n",
    "            return i\n",
    "        \n",
    "search(\"banane\",Fruits)\n",
    "\n"
   ]
  },
  {
   "cell_type": "markdown",
   "id": "ce9ba959",
   "metadata": {},
   "source": [
    "<H3><span style=\"font-weight: bold; color: #1a8bcdff;\">Challenge 5 : Nombre d'occurrences </span></H3>\n",
    "\n",
    "<center><code>L = [7 , 23 , 5 , 23 , 7 , 19 , 23 , 12 , 29]</code></center>\n",
    "\n",
    "<span style=\"font-weight: bold; color: #e56922ff;\">Travail à faire</span>:</br>\n",
    "Écrire un algorithme en python qui renvoie le nombre d'occurrences d'un élément a dans une liste L donnée sans utiliser aucune fonction prédéfinie en Python."
   ]
  },
  {
   "cell_type": "code",
   "execution_count": null,
   "id": "fb150eca",
   "metadata": {},
   "outputs": [
    {
     "name": "stdout",
     "output_type": "stream",
     "text": [
      "[['num 7', 'accured 2 times'], ['num 23', 'accured 3 times'], ['num 5', 'accured 1 times'], ['num 23', 'accured 3 times'], ['num 7', 'accured 2 times'], ['num 19', 'accured 1 times'], ['num 23', 'accured 3 times'], ['num 12', 'accured 1 times'], ['num 29', 'accured 1 times']]\n"
     ]
    }
   ],
   "source": [
    "#  Écrivez du code Python ici\n",
    "\n",
    "l = [7 , 23 , 5 , 23 , 7 , 19 , 23 , 12 , 29]\n",
    "\n",
    "def num_accured(l):\n",
    "    m = []\n",
    "    count = 0\n",
    "    for j in range(len(l)):\n",
    "        num = l[j]\n",
    "        for i in range(len(l)):\n",
    "            if num == l[i]:\n",
    "                count+=1\n",
    "        m.append([\n",
    "                    \"num \" + str(l[j]),\n",
    "                    \"accured \"+str(count) +\" times\"\n",
    "                  ])\n",
    "        count = 0\n",
    "    return m\n",
    "print(num_accured(l))"
   ]
  },
  {
   "cell_type": "markdown",
   "id": "e8fb0d93",
   "metadata": {},
   "source": []
  }
 ],
 "metadata": {
  "kernelspec": {
   "display_name": "Python 3",
   "language": "python",
   "name": "python3"
  },
  "language_info": {
   "codemirror_mode": {
    "name": "ipython",
    "version": 3
   },
   "file_extension": ".py",
   "mimetype": "text/x-python",
   "name": "python",
   "nbconvert_exporter": "python",
   "pygments_lexer": "ipython3",
   "version": "3.13.7"
  }
 },
 "nbformat": 4,
 "nbformat_minor": 5
}

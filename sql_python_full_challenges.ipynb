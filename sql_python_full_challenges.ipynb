{
 "cells": [
  {
   "cell_type": "markdown",
   "id": "25c1f0a7",
   "metadata": {},
   "source": [
    "# 🐍 SQL + Python Full Challenge Notebook\n",
    "This notebook contains exercises to practice **all core SQL concepts** using Python."
   ]
  },
  {
   "cell_type": "markdown",
   "id": "1933404b",
   "metadata": {},
   "source": [
    "## Challenge 1: Setup Connection\n",
    "Connect to a database (`students.db` for SQLite or Postgres if configured)."
   ]
  },
  {
   "cell_type": "code",
   "execution_count": null,
   "id": "bae9c234",
   "metadata": {},
   "outputs": [
    {
     "name": "stdout",
     "output_type": "stream",
     "text": [
      "Connection to PostgreSQL successful!\n"
     ]
    }
   ],
   "source": [
    "import psycopg\n",
    "\n",
    "try:\n",
    "    conn = psycopg.connect(\n",
    "        host=\"localhost\",\n",
    "        dbname=\"students\",\n",
    "        user=\"redaader\",\n",
    "        password=\"redaader\",\n",
    "        port=5432\n",
    "    )\n",
    "    print(\"Connection to PostgreSQL successful!\")\n",
    "\n",
    "except psycopg.Error as e:\n",
    "    print(f\"Error connecting to PostgreSQL: {e}\")"
   ]
  },
  {
   "cell_type": "markdown",
   "id": "04f47541",
   "metadata": {},
   "source": [
    "## Challenge 2: DDL - Create Tables\n",
    "1. Create a table `students(id SERIAL PRIMARY KEY, name TEXT, age INT, grade TEXT)`\n",
    "2. Create a table `courses(course_id SERIAL PRIMARY KEY, course_name TEXT)`\n",
    "3. Create a table `enrollments(student_id INT, course_id INT)`"
   ]
  },
  {
   "cell_type": "code",
   "execution_count": 11,
   "id": "179ed90f",
   "metadata": {},
   "outputs": [
    {
     "name": "stdout",
     "output_type": "stream",
     "text": [
      "Tables created successfully!\n"
     ]
    }
   ],
   "source": [
    "# TODO: CREATE TABLE ...\n",
    "\n",
    "cur = conn.cursor()\n",
    "\n",
    "students_table =  \"\"\"\n",
    "    CREATE TABLE IF NOT EXISTS students (\n",
    "        id SERIAL PRIMARY KEY,\n",
    "        name TEXT NOT NULL,\n",
    "        age INT,\n",
    "        grade TEXT\n",
    "    );\n",
    "    \"\"\"\n",
    "courses_table = \"\"\"\n",
    "    CREATE TABLE IF NOT EXISTS courses (\n",
    "        course_id SERIAL PRIMARY KEY,\n",
    "        course_name TEXT NOT NULL\n",
    "    );\n",
    "    \"\"\"\n",
    "\n",
    "enrollments_table = \"\"\"\n",
    "    CREATE TABLE IF NOT EXISTS enrollments (\n",
    "        student_id INT REFERENCES students(id),\n",
    "        course_id INT REFERENCES courses(course_id),\n",
    "        PRIMARY KEY (student_id, course_id)\n",
    "    );\n",
    "    \"\"\"\n",
    "\n",
    "conn.commit()\n",
    "print(\"Tables created successfully!\")\n",
    "cur.close()\n"
   ]
  },
  {
   "cell_type": "markdown",
   "id": "bb842baf",
   "metadata": {},
   "source": [
    "## Challenge 3: ALTER & DROP\n",
    "1. Add a column `email TEXT` to `students`\n",
    "2. Drop the column `email` (if supported)\n",
    "3. Drop the `enrollments` table"
   ]
  },
  {
   "cell_type": "code",
   "execution_count": null,
   "id": "8bfa1423",
   "metadata": {},
   "outputs": [],
   "source": [
    "# TODO: ALTER TABLE ... / DROP TABLE ..."
   ]
  },
  {
   "cell_type": "markdown",
   "id": "78d65d27",
   "metadata": {},
   "source": [
    "## Challenge 4: DML - Insert Data\n",
    "Insert at least 5 students and 3 courses."
   ]
  },
  {
   "cell_type": "code",
   "execution_count": null,
   "id": "5e861f91",
   "metadata": {},
   "outputs": [],
   "source": [
    "# TODO: INSERT INTO students ...\n",
    "# TODO: INSERT INTO courses ..."
   ]
  },
  {
   "cell_type": "markdown",
   "id": "51bde19e",
   "metadata": {},
   "source": [
    "## Challenge 5: Update & Delete\n",
    "1. Update a student’s grade\n",
    "2. Delete a student by name"
   ]
  },
  {
   "cell_type": "code",
   "execution_count": null,
   "id": "57b301a5",
   "metadata": {},
   "outputs": [],
   "source": [
    "# TODO: UPDATE ...\n",
    "# TODO: DELETE ..."
   ]
  },
  {
   "cell_type": "markdown",
   "id": "9fff0538",
   "metadata": {},
   "source": [
    "## Challenge 6: SELECT & WHERE\n",
    "1. Select all students\n",
    "2. Students older than 20\n",
    "3. Students with grade 'A'"
   ]
  },
  {
   "cell_type": "code",
   "execution_count": null,
   "id": "4597942e",
   "metadata": {},
   "outputs": [],
   "source": [
    "# TODO: SELECT ... WHERE ..."
   ]
  },
  {
   "cell_type": "markdown",
   "id": "d97ffe75",
   "metadata": {},
   "source": [
    "## Challenge 7: ORDER BY & LIMIT\n",
    "1. List students ordered by age (descending)\n",
    "2. Show the top 3 oldest students"
   ]
  },
  {
   "cell_type": "code",
   "execution_count": null,
   "id": "4a110810",
   "metadata": {},
   "outputs": [],
   "source": [
    "# TODO: SELECT ... ORDER BY ... LIMIT ..."
   ]
  },
  {
   "cell_type": "markdown",
   "id": "2f32ef82",
   "metadata": {},
   "source": [
    "## Challenge 8: DISTINCT & LIKE\n",
    "1. List distinct grades\n",
    "2. Find students whose name contains 'ah'"
   ]
  },
  {
   "cell_type": "code",
   "execution_count": null,
   "id": "fcfb0299",
   "metadata": {},
   "outputs": [],
   "source": [
    "# TODO: SELECT DISTINCT ...\n",
    "# TODO: SELECT ... LIKE ..."
   ]
  },
  {
   "cell_type": "markdown",
   "id": "0a7a97c8",
   "metadata": {},
   "source": [
    "## Challenge 9: JOINS\n",
    "1. Enroll students in courses (insert into enrollments)\n",
    "2. Show each student with their enrolled courses\n",
    "3. Show all courses with student counts"
   ]
  },
  {
   "cell_type": "code",
   "execution_count": null,
   "id": "937a7788",
   "metadata": {},
   "outputs": [],
   "source": [
    "# TODO: INNER JOIN, LEFT JOIN, COUNT ..."
   ]
  },
  {
   "cell_type": "markdown",
   "id": "7b41eacc",
   "metadata": {},
   "source": [
    "## Challenge 10: Aggregations\n",
    "1. Find average student age\n",
    "2. Count students per grade\n",
    "3. Max & Min age"
   ]
  },
  {
   "cell_type": "code",
   "execution_count": null,
   "id": "11217b10",
   "metadata": {},
   "outputs": [],
   "source": [
    "# TODO: SELECT AVG, COUNT, MAX, MIN ..."
   ]
  },
  {
   "cell_type": "markdown",
   "id": "78569f7b",
   "metadata": {},
   "source": [
    "## Challenge 11: GROUP BY & HAVING\n",
    "1. Count students by grade\n",
    "2. Show only grades with more than 2 students"
   ]
  },
  {
   "cell_type": "code",
   "execution_count": null,
   "id": "d0ba028b",
   "metadata": {},
   "outputs": [],
   "source": [
    "# TODO: SELECT ... GROUP BY ... HAVING ..."
   ]
  },
  {
   "cell_type": "markdown",
   "id": "7250940f",
   "metadata": {},
   "source": [
    "## Challenge 12: Subqueries\n",
    "1. Find students older than the average age\n",
    "2. Find courses that no student enrolled in"
   ]
  },
  {
   "cell_type": "code",
   "execution_count": null,
   "id": "18dd7399",
   "metadata": {},
   "outputs": [],
   "source": [
    "# TODO: use SELECT inside SELECT"
   ]
  },
  {
   "cell_type": "markdown",
   "id": "0bb960f3",
   "metadata": {},
   "source": [
    "## Challenge 13: Views\n",
    "1. Create a view `top_students` for students with grade 'A'\n",
    "2. Query the view"
   ]
  },
  {
   "cell_type": "code",
   "execution_count": null,
   "id": "93247310",
   "metadata": {},
   "outputs": [],
   "source": [
    "# TODO: CREATE VIEW ...\n",
    "# TODO: SELECT FROM top_students"
   ]
  },
  {
   "cell_type": "markdown",
   "id": "ed888a30",
   "metadata": {},
   "source": [
    "## Challenge 14: Indexes\n",
    "1. Create an index on student name\n",
    "2. Explain why indexes help queries"
   ]
  },
  {
   "cell_type": "code",
   "execution_count": null,
   "id": "8b243369",
   "metadata": {},
   "outputs": [],
   "source": [
    "# TODO: CREATE INDEX ..."
   ]
  },
  {
   "cell_type": "markdown",
   "id": "bce99487",
   "metadata": {},
   "source": [
    "## Challenge 15: Transactions\n",
    "1. Insert multiple students in a transaction\n",
    "2. Rollback if one insert fails"
   ]
  },
  {
   "cell_type": "code",
   "execution_count": null,
   "id": "b79d4083",
   "metadata": {},
   "outputs": [],
   "source": [
    "# Example:\n",
    "try:\n",
    "    conn.execute('BEGIN')\n",
    "    # multiple inserts here\n",
    "    conn.commit()\n",
    "except Exception as e:\n",
    "    conn.rollback()"
   ]
  },
  {
   "cell_type": "markdown",
   "id": "cc668ff2",
   "metadata": {},
   "source": [
    "## Challenge 16: Functions (Advanced)\n",
    "If using PostgreSQL:\n",
    "1. Create a function that returns students count\n",
    "2. Call it from Python"
   ]
  },
  {
   "cell_type": "code",
   "execution_count": null,
   "id": "32677ef4",
   "metadata": {},
   "outputs": [],
   "source": [
    "# TODO: CREATE FUNCTION ..."
   ]
  },
  {
   "cell_type": "markdown",
   "id": "80bb6243",
   "metadata": {},
   "source": [
    "## Challenge 17: Export & Import\n",
    "1. Export students to CSV\n",
    "2. Read CSV and insert back into DB"
   ]
  },
  {
   "cell_type": "code",
   "execution_count": null,
   "id": "393cde5e",
   "metadata": {},
   "outputs": [],
   "source": [
    "import csv\n",
    "# TODO: export SELECT results into students.csv\n",
    "# TODO: read students.csv and insert into DB"
   ]
  },
  {
   "cell_type": "markdown",
   "id": "e24d5d6c",
   "metadata": {},
   "source": [
    "## Challenge 18: Mini Project — Student Management System\n",
    "Implement menu options:\n",
    "1. Add student\n",
    "2. View all students\n",
    "3. Update grade\n",
    "4. Delete student\n",
    "5. Show enrolled courses"
   ]
  },
  {
   "cell_type": "code",
   "execution_count": null,
   "id": "5dc0a554",
   "metadata": {},
   "outputs": [],
   "source": [
    "# TODO: Implement interactive loop"
   ]
  }
 ],
 "metadata": {
  "kernelspec": {
   "display_name": ".venv",
   "language": "python",
   "name": "python3"
  },
  "language_info": {
   "codemirror_mode": {
    "name": "ipython",
    "version": 3
   },
   "file_extension": ".py",
   "mimetype": "text/x-python",
   "name": "python",
   "nbconvert_exporter": "python",
   "pygments_lexer": "ipython3",
   "version": "3.13.7"
  }
 },
 "nbformat": 4,
 "nbformat_minor": 5
}
